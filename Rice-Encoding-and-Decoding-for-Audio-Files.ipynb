{
 "cells": [
  {
   "cell_type": "markdown",
   "id": "a4353f73",
   "metadata": {},
   "source": [
    "# Exercise 2"
   ]
  },
  {
   "cell_type": "markdown",
   "id": "620f06e6",
   "metadata": {},
   "source": [
    "## Install Necessary Packages"
   ]
  },
  {
   "cell_type": "code",
   "execution_count": 15,
   "id": "0b3da128",
   "metadata": {
    "scrolled": true
   },
   "outputs": [
    {
     "name": "stdout",
     "output_type": "stream",
     "text": [
      "Requirement already satisfied: tabulate in c:\\users\\danish\\anaconda3\\envs\\myenv\\lib\\site-packages (0.9.0)\n",
      "Requirement already satisfied: matplotlib in c:\\users\\danish\\anaconda3\\envs\\myenv\\lib\\site-packages (3.8.2)\n",
      "Requirement already satisfied: numpy in c:\\users\\danish\\anaconda3\\envs\\myenv\\lib\\site-packages (1.24.4)\n",
      "Requirement already satisfied: contourpy>=1.0.1 in c:\\users\\danish\\anaconda3\\envs\\myenv\\lib\\site-packages (from matplotlib) (1.2.0)\n",
      "Requirement already satisfied: cycler>=0.10 in c:\\users\\danish\\anaconda3\\envs\\myenv\\lib\\site-packages (from matplotlib) (0.12.1)\n",
      "Requirement already satisfied: fonttools>=4.22.0 in c:\\users\\danish\\anaconda3\\envs\\myenv\\lib\\site-packages (from matplotlib) (4.47.0)\n",
      "Requirement already satisfied: kiwisolver>=1.3.1 in c:\\users\\danish\\anaconda3\\envs\\myenv\\lib\\site-packages (from matplotlib) (1.4.5)\n",
      "Requirement already satisfied: packaging>=20.0 in c:\\users\\danish\\appdata\\roaming\\python\\python310\\site-packages (from matplotlib) (23.1)\n",
      "Requirement already satisfied: pillow>=8 in c:\\users\\danish\\anaconda3\\envs\\myenv\\lib\\site-packages (from matplotlib) (10.1.0)\n",
      "Requirement already satisfied: pyparsing>=2.3.1 in c:\\users\\danish\\anaconda3\\envs\\myenv\\lib\\site-packages (from matplotlib) (3.1.1)\n",
      "Requirement already satisfied: python-dateutil>=2.7 in c:\\users\\danish\\appdata\\roaming\\python\\python310\\site-packages (from matplotlib) (2.8.2)\n",
      "Requirement already satisfied: six>=1.5 in c:\\users\\danish\\anaconda3\\envs\\myenv\\lib\\site-packages (from python-dateutil>=2.7->matplotlib) (1.16.0)\n",
      "Note: you may need to restart the kernel to use updated packages.\n"
     ]
    },
    {
     "name": "stderr",
     "output_type": "stream",
     "text": [
      "WARNING: Ignoring invalid distribution -rotobuf (c:\\users\\danish\\anaconda3\\envs\\myenv\\lib\\site-packages)\n",
      "WARNING: Ignoring invalid distribution -rotobuf (c:\\users\\danish\\anaconda3\\envs\\myenv\\lib\\site-packages)\n"
     ]
    }
   ],
   "source": [
    "%pip install tabulate matplotlib numpy"
   ]
  },
  {
   "cell_type": "markdown",
   "id": "8481bc59",
   "metadata": {},
   "source": [
    "## Import Packages"
   ]
  },
  {
   "cell_type": "code",
   "execution_count": 16,
   "id": "bd67457e",
   "metadata": {},
   "outputs": [],
   "source": [
    "import os\n",
    "import struct\n",
    "from tqdm.auto import tqdm\n",
    "import numpy as np\n",
    "from matplotlib import pyplot as plt\n",
    "import tabulate"
   ]
  },
  {
   "cell_type": "markdown",
   "id": "8e27c36e",
   "metadata": {},
   "source": [
    "## Encoding and Decoding Functions"
   ]
  },
  {
   "cell_type": "code",
   "execution_count": 17,
   "id": "13692814",
   "metadata": {},
   "outputs": [],
   "source": [
    "def rice_encode(number, k) -> str:\n",
    "    # encodes a number n with parameter k in Rice coding, the number is divided into a quotient and remainder\n",
    "    # the quotient is represented as a unary number, while the remainder is represented as a binary number\n",
    "    quotient = number >> k\n",
    "    remainder = number & ((1 << k) - 1)\n",
    "    return '1' * quotient + '0' + format(remainder, '0' + str(k) + 'b')"
   ]
  },
  {
   "cell_type": "code",
   "execution_count": 18,
   "id": "fb64ccb5",
   "metadata": {},
   "outputs": [],
   "source": [
    "def rice_decode(code, k) -> int:\n",
    "    # decodes a Rice code with parameter k, the process involves locating the first occurrence of 0 in the code\n",
    "    # the count of 1s before the 0 represents the quotient, while the following k bits after the 0 form the remainder\n",
    "    quotient = code.find('0')\n",
    "    remainder = int(code[quotient + 1:quotient + 1 + k], 2)\n",
    "    return (quotient << k) + remainder"
   ]
  },
  {
   "cell_type": "markdown",
   "id": "957f7282",
   "metadata": {},
   "source": [
    "## Test Encoding and Decoding Functions"
   ]
  },
  {
   "cell_type": "code",
   "execution_count": 19,
   "id": "c6715a31",
   "metadata": {},
   "outputs": [],
   "source": [
    "# confirms that the functions for Rice encoding and decoding are working correctly \n",
    "# by asserting that the decoded value matches the original input\n",
    "assert rice_decode(rice_encode(100, 3), 3) == 100"
   ]
  },
  {
   "cell_type": "code",
   "execution_count": 20,
   "id": "8e5b367e",
   "metadata": {},
   "outputs": [],
   "source": [
    "# confirms correct functionality with any amount of zeros or ones added to the end\n",
    "assert rice_decode(rice_encode(100, 3).ljust(100, '0'), 3) == 100\n",
    "assert rice_decode(rice_encode(100, 3).ljust(100, '1'), 3) == 100"
   ]
  },
  {
   "cell_type": "markdown",
   "id": "b84d902c",
   "metadata": {},
   "source": [
    "## Helper Functions"
   ]
  },
  {
   "cell_type": "code",
   "execution_count": 21,
   "id": "0d99b567",
   "metadata": {},
   "outputs": [],
   "source": [
    "def bits_to_bytes(bit_string:str) -> bytes:\n",
    "    # converts a sequence of bits into a bytes object\n",
    "    padded = bit_string + '0' * ((8 - len(bit_string) % 8) % 8)\n",
    "    return bytes(int(padded[i:i+8], 2) for i in range(0, len(padded), 8))"
   ]
  },
  {
   "cell_type": "code",
   "execution_count": 22,
   "id": "71827bf4",
   "metadata": {},
   "outputs": [],
   "source": [
    "def bytes_to_bits(byte_data:bytearray) -> str:\n",
    "    # converts a bytearray of bytes into a string of bits\n",
    "    return ''.join(format(byte, '08b') for byte in byte_data)"
   ]
  },
  {
   "cell_type": "code",
   "execution_count": 23,
   "id": "0c3d38ad",
   "metadata": {},
   "outputs": [],
   "source": [
    "def is_files_equal(file_1:str, file_2:str) -> bool:\n",
    "    # checks whether two files are equal by comparing their contents\n",
    "    with open(file_1, 'rb') as f1, open(file_2, 'rb') as f2:\n",
    "        return f1.read() == f2.read()"
   ]
  },
  {
   "cell_type": "markdown",
   "id": "0ca0754f",
   "metadata": {},
   "source": [
    "## Test Helper Functions"
   ]
  },
  {
   "cell_type": "code",
   "execution_count": 24,
   "id": "39eafc2a",
   "metadata": {},
   "outputs": [],
   "source": [
    "# any positive integer value for this\n",
    "number = 199600\n",
    "\n",
    "# generates a bit string from the given number\n",
    "bit_string = bin(number)[2:]\n",
    "\n",
    "# pads it with zeros to a multiple of 8\n",
    "padding = (8 - len(bit_string) % 8) % 8\n",
    "bit_string = bit_string.zfill(len(bit_string) + padding)\n",
    "bits = bytes_to_bits(bits_to_bytes(bit_string))\n",
    "\n",
    "# checks if the final bits are equal to the original number\n",
    "assert int(bits, 2) == number"
   ]
  },
  {
   "cell_type": "code",
   "execution_count": 25,
   "id": "30488999",
   "metadata": {},
   "outputs": [],
   "source": [
    "# checks if two sound files are equal or not\n",
    "assert is_files_equal(\"Sound1.wav\", \"Sound2.wav\") == False\n",
    "assert is_files_equal(\"Sound1.wav\", \"Sound1.wav\")"
   ]
  },
  {
   "cell_type": "markdown",
   "id": "20423117",
   "metadata": {},
   "source": [
    "## Encode File"
   ]
  },
  {
   "cell_type": "code",
   "execution_count": 26,
   "id": "ba13fe16",
   "metadata": {},
   "outputs": [],
   "source": [
    "def encode_file_rice(input_file, output_file, k):\n",
    "    # encodes a file using Rice encoding with a specified parameter k\n",
    "    with open(input_file, 'rb') as file:\n",
    "        input_data = file.read()\n",
    "\n",
    "    # create a bit string by applying the Rice encoding function to each element in the input data\n",
    "    bit_string = ''.join([rice_encode(n, k) for n in input_data])\n",
    "\n",
    "    # adds padding to the bit string by appending '1's until its length is a multiple of 8\n",
    "    padding = (8 - len(bit_string) % 8) % 8\n",
    "    bit_string = bit_string.ljust(len(bit_string) + padding, '1')\n",
    "    encoded_data = bits_to_bytes(bit_string)\n",
    "\n",
    "    with open(output_file, 'wb') as file:\n",
    "        file.write(encoded_data)"
   ]
  },
  {
   "cell_type": "code",
   "execution_count": 27,
   "id": "c89ff411",
   "metadata": {},
   "outputs": [],
   "source": [
    "def decoded_file_rice(input_file, output_file, k):\n",
    "    # decodes a file using Rice encoding with parameter k\n",
    "    with open(input_file, 'rb') as file:\n",
    "        input_data = file.read()\n",
    "    bit_string = bytes_to_bits(input_data)\n",
    "\n",
    "    # performs rice decoding\n",
    "    decoded_data = []\n",
    "    start = 0\n",
    "    while start < len(bit_string):\n",
    "        q = bit_string.find('0', start)\n",
    "\n",
    "        # checks if the index of '0' is valid for further processing in the context of Rice decoding\n",
    "        # if it's not valid, the loop breaks\n",
    "        if q == -1 or q + k >= len(bit_string):\n",
    "            break\n",
    "\n",
    "        # decodes a portion of the bit string using the rice_decode() function with a specified parameter k\n",
    "        # and appends the decoded value to the list of decoded data\n",
    "        value = rice_decode(bit_string[start:q + k + 1], k)\n",
    "        decoded_data.append(value)\n",
    "\n",
    "        # updates the start index for the next portion of the bit string to be decoded\n",
    "        start = q + k + 1\n",
    "\n",
    "    with open(output_file, 'wb') as file:\n",
    "        file.write(bytes(decoded_data))"
   ]
  },
  {
   "cell_type": "markdown",
   "id": "b782efae",
   "metadata": {},
   "source": [
    "## Processing"
   ]
  },
  {
   "cell_type": "code",
   "execution_count": 28,
   "id": "357060e5",
   "metadata": {},
   "outputs": [],
   "source": [
    "FILES = [\"Sound1.wav\", \"Sound2.wav\"]\n",
    "\n",
    "table_data = []\n",
    "\n",
    "for file in FILES:\n",
    "    sample_name = os.path.splitext(os.path.basename(file))[0]\n",
    "    original_size = os.path.getsize(file)\n",
    "    output_file_name = sample_name + '_Enc.ex2'\n",
    "\n",
    "    # Encoding and decoding at k = 4\n",
    "    encode_file_rice(file, output_file_name, 4)\n",
    "    encoded_4_size = os.path.getsize(output_file_name)\n",
    "    decoded_output_file_name = sample_name + '_Enc_Dec.wav'\n",
    "    decoded_file_rice(output_file_name, decoded_output_file_name, 4)\n",
    "\n",
    "    # checks if the content of the file and the decoded output file are equal\n",
    "    assert is_files_equal(file, decoded_output_file_name)\n",
    "\n",
    "    # Encoding and decoding at k = 2 \n",
    "    encode_file_rice(file, output_file_name, 2)\n",
    "    encoded_2_size = os.path.getsize(output_file_name)\n",
    "    decoded_output_file_name = sample_name + '_Enc_Dec.wav'\n",
    "    decoded_file_rice(output_file_name, decoded_output_file_name, 2)\n",
    "\n",
    "    # checks if the content of the file and the decoded output file are equal\n",
    "    assert is_files_equal(file, decoded_output_file_name)\n",
    "\n",
    "    # calculates compression percentage for k = 4 and k = 2\n",
    "    compression_percentage_4 = (1 - encoded_4_size / original_size) * 100\n",
    "    compression_percentage_2 = (1 - encoded_2_size / original_size) * 100\n",
    "\n",
    "    # saves results\n",
    "    table_data.append([file, original_size, encoded_4_size, encoded_2_size, compression_percentage_4, compression_percentage_2])"
   ]
  },
  {
   "cell_type": "markdown",
   "id": "147ba0cf",
   "metadata": {},
   "source": [
    "## Show Results"
   ]
  },
  {
   "cell_type": "markdown",
   "id": "1d0fa7ea",
   "metadata": {},
   "source": [
    "The results with the proposed in the task description k parameters are the following:"
   ]
  },
  {
   "cell_type": "code",
   "execution_count": 29,
   "id": "c995789b",
   "metadata": {},
   "outputs": [
    {
     "data": {
      "text/html": [
       "<table>\n",
       "<thead>\n",
       "<tr><th>          </th><th style=\"text-align: right;\">  Original size</th><th style=\"text-align: right;\">  Rice (K = 4 bits)</th><th style=\"text-align: right;\">  Rice (K = 2 bits)</th><th style=\"text-align: right;\">  % Compression (K = 4 bits)</th><th style=\"text-align: right;\">  % Compression (K = 2 bits)</th></tr>\n",
       "</thead>\n",
       "<tbody>\n",
       "<tr><td>Sound1.wav</td><td style=\"text-align: right;\">        1002088</td><td style=\"text-align: right;\">            1516265</td><td style=\"text-align: right;\">            4115718</td><td style=\"text-align: right;\">                    -51.3106</td><td style=\"text-align: right;\">                    -310.714</td></tr>\n",
       "<tr><td>Sound2.wav</td><td style=\"text-align: right;\">        1008044</td><td style=\"text-align: right;\">            1575347</td><td style=\"text-align: right;\">            4348595</td><td style=\"text-align: right;\">                    -56.2776</td><td style=\"text-align: right;\">                    -331.389</td></tr>\n",
       "</tbody>\n",
       "</table>"
      ],
      "text/plain": [
       "'<table>\\n<thead>\\n<tr><th>          </th><th style=\"text-align: right;\">  Original size</th><th style=\"text-align: right;\">  Rice (K = 4 bits)</th><th style=\"text-align: right;\">  Rice (K = 2 bits)</th><th style=\"text-align: right;\">  % Compression (K = 4 bits)</th><th style=\"text-align: right;\">  % Compression (K = 2 bits)</th></tr>\\n</thead>\\n<tbody>\\n<tr><td>Sound1.wav</td><td style=\"text-align: right;\">        1002088</td><td style=\"text-align: right;\">            1516265</td><td style=\"text-align: right;\">            4115718</td><td style=\"text-align: right;\">                    -51.3106</td><td style=\"text-align: right;\">                    -310.714</td></tr>\\n<tr><td>Sound2.wav</td><td style=\"text-align: right;\">        1008044</td><td style=\"text-align: right;\">            1575347</td><td style=\"text-align: right;\">            4348595</td><td style=\"text-align: right;\">                    -56.2776</td><td style=\"text-align: right;\">                    -331.389</td></tr>\\n</tbody>\\n</table>'"
      ]
     },
     "execution_count": 29,
     "metadata": {},
     "output_type": "execute_result"
    }
   ],
   "source": [
    "table = tabulate.tabulate(table_data,  tablefmt='html', headers=[\"\", \"Original size\", \"Rice (K = 4 bits)\", \"Rice (K = 2 bits)\", \"% Compression (K = 4 bits)\", \"% Compression (K = 2 bits)\"])\n",
    "table"
   ]
  }
 ],
 "metadata": {
  "kernelspec": {
   "display_name": "Python 3 (ipykernel)",
   "language": "python",
   "name": "python3"
  },
  "language_info": {
   "codemirror_mode": {
    "name": "ipython",
    "version": 3
   },
   "file_extension": ".py",
   "mimetype": "text/x-python",
   "name": "python",
   "nbconvert_exporter": "python",
   "pygments_lexer": "ipython3",
   "version": "3.10.12"
  }
 },
 "nbformat": 4,
 "nbformat_minor": 5
}
